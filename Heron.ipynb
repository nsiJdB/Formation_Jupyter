{
 "cells": [
  {
   "cell_type": "markdown",
   "metadata": {},
   "source": [
    "# TP - Suite de Héron et approximation d'une racine carrée"
   ]
  },
  {
   "cell_type": "markdown",
   "metadata": {},
   "source": [
    "La suite de Héron est la suite $\\left(a_n \\right)_n$ définie par $a_0=a$ où $a > 0$ et pour tout  $n\\in\\mathbb{N}$, $a_{n+1}=\\dfrac{1}{2} \\left(a_n+\\dfrac{a}{a_n}\\right)$."
   ]
  },
  {
   "cell_type": "markdown",
   "metadata": {},
   "source": [
    "## 1. Calculs de termes et conjectures"
   ]
  },
  {
   "cell_type": "markdown",
   "metadata": {},
   "source": [
    "<div class=\"alert alert-info\">\n",
    "    \n",
    "<strong class='fa fa-cogs' style=\"color: darkorange\"> Question 1 </strong>\n",
    "\n",
    "On note  $f_a$  la fonction sur $\\mathbb{R}_+$ telle que pour tout  $n\\in\\mathbb{N},\\ a_{n+1}=f_a(a_n)$.\n",
    "\n",
    "On la notera en Python comme une fonction avec deux paramètres : `f(a,x)`.\n",
    "\n",
    "Compléter ci-dessous le script de cette fonction `f`.\n",
    "\n",
    "</div>"
   ]
  },
  {
   "cell_type": "code",
   "execution_count": 103,
   "metadata": {},
   "outputs": [],
   "source": [
    "def f(a, x):\n",
    "    return # à faire"
   ]
  },
  {
   "cell_type": "markdown",
   "metadata": {},
   "source": [
    "<div class=\"alert alert-info\">\n",
    "    \n",
    "<strong class='fa fa-cogs' style=\"color: darkorange\"> Question 2 </strong>\n",
    "\n",
    "Compléter l'algorithme suivant de la fonction `heron` qui \n",
    "* qui reçoit en paramètres un entier `n`, deux réels `a` et `a_0`;\n",
    "* qui renvoie la liste des `n+1` premiers termes de la suite de Héron.\n",
    "\n",
    "</div>"
   ]
  },
  {
   "cell_type": "code",
   "execution_count": null,
   "metadata": {},
   "outputs": [],
   "source": [
    "def heron(n, a, a_0):\n",
    "    u = a_0\n",
    "    liste = [u]\n",
    "    # à compléter\n",
    "    return liste\n",
    "\n",
    "# Exécuter la fonction pour vérifier son fontionnement"
   ]
  },
  {
   "cell_type": "markdown",
   "metadata": {},
   "source": [
    "<div class=\"alert alert-info\">\n",
    "    \n",
    "<strong class='fa fa-cogs' style=\"color: darkorange\"> Question 3 </strong>\n",
    "\n",
    "La fonction `rep_graph` ci-desssous :\n",
    "* reçoit en paramètre un entier `n`, une liste des `n` premiers termes d'une suite \n",
    "* affiche la représentation graphique des `n` premiers termes de la suite.\n",
    "\n",
    "\n",
    "1. Utiliser la fonction précédente pour conjecturer le comportement à l'infini de la suite de Héron.\n",
    "2. La conjecture observée dépend-elle de la valeur de $u_0$ ?\n",
    "</div>"
   ]
  },
  {
   "cell_type": "code",
   "execution_count": 50,
   "metadata": {},
   "outputs": [],
   "source": [
    "from matplotlib import pyplot\n",
    "\n",
    "def rep_graph(n, suite):\n",
    "    abscisses = [i for i in range(n)] # liste des valeurs de n\n",
    "    pyplot.axis([0, n, 0, max(suite)]) # définit la fenêtre du graphique\n",
    "    pyplot.scatter(abscisses, suite) # trace le nuage de points\n",
    "    pyplot.show()\n",
    "    \n",
    "# Saisir ici les exécutions nécessaires aux conjectures."
   ]
  },
  {
   "cell_type": "markdown",
   "metadata": {},
   "source": [
    "La conjecture dépend-elle de $u_0$ ?\n",
    "\n",
    "*Saisir votre réponse ici*"
   ]
  },
  {
   "cell_type": "markdown",
   "metadata": {},
   "source": [
    "## 2. Etude la convergence de la suite"
   ]
  },
  {
   "cell_type": "markdown",
   "metadata": {},
   "source": [
    "On peut démontrer (programme de Terminale Général spécialité) que :\n",
    "* la suite de Héron est convergente car décroissante minorée par $a$.\n",
    "* la suite de Héron converge vers $\\sqrt{a}$."
   ]
  },
  {
   "cell_type": "markdown",
   "metadata": {},
   "source": [
    "<div class=\"alert alert-info\">\n",
    "    \n",
    "<strong class='fa fa-cogs' style=\"color: darkorange\"> Question 4 </strong>\n",
    "\n",
    "Proposer le script d'une fonction `racine` qui :\n",
    "* reçoit en paramètre un réel `a` et un entier `p`;\n",
    "* renvoie une valeur approchée à `p` décimales de $\\sqrt{a}$ à l'aide de la suite de Héron.\n",
    "</div>"
   ]
  },
  {
   "cell_type": "code",
   "execution_count": 196,
   "metadata": {},
   "outputs": [],
   "source": [
    "from math import floor, sqrt\n",
    "\n",
    "def racine(a, p):\n",
    "    # à faire"
   ]
  }
 ],
 "metadata": {
  "kernelspec": {
   "display_name": "Python 3",
   "language": "python",
   "name": "python3"
  },
  "language_info": {
   "codemirror_mode": {
    "name": "ipython",
    "version": 3
   },
   "file_extension": ".py",
   "mimetype": "text/x-python",
   "name": "python",
   "nbconvert_exporter": "python",
   "pygments_lexer": "ipython3",
   "version": "3.7.3"
  }
 },
 "nbformat": 4,
 "nbformat_minor": 2
}
